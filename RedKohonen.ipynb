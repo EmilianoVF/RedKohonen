{
  "nbformat": 4,
  "nbformat_minor": 0,
  "metadata": {
    "colab": {
      "name": "Untitled10.ipynb",
      "provenance": []
    },
    "kernelspec": {
      "name": "python3",
      "display_name": "Python 3"
    },
    "accelerator": "GPU"
  },
  "cells": [
    {
      "cell_type": "code",
      "metadata": {
        "id": "yBWeg9a3P_tR",
        "colab_type": "code",
        "outputId": "d17b9687-0626-4551-c97d-3f7942b2a259",
        "colab": {
          "base_uri": "https://localhost:8080/",
          "height": 122
        }
      },
      "source": [
        "import pandas as pd\n",
        "import numpy as np\n",
        "import numpy\n",
        "import datetime\n",
        "import matplotlib.pyplot as plt\n",
        "from matplotlib import colors\n",
        "from google.colab import drive\n",
        "drive.mount('/content/drive')"
      ],
      "execution_count": 1,
      "outputs": [
        {
          "output_type": "stream",
          "text": [
            "Go to this URL in a browser: https://accounts.google.com/o/oauth2/auth?client_id=947318989803-6bn6qk8qdgf4n4g3pfee6491hc0brc4i.apps.googleusercontent.com&redirect_uri=urn%3aietf%3awg%3aoauth%3a2.0%3aoob&response_type=code&scope=email%20https%3a%2f%2fwww.googleapis.com%2fauth%2fdocs.test%20https%3a%2f%2fwww.googleapis.com%2fauth%2fdrive%20https%3a%2f%2fwww.googleapis.com%2fauth%2fdrive.photos.readonly%20https%3a%2f%2fwww.googleapis.com%2fauth%2fpeopleapi.readonly\n",
            "\n",
            "Enter your authorization code:\n",
            "··········\n",
            "Mounted at /content/drive\n"
          ],
          "name": "stdout"
        }
      ]
    },
    {
      "cell_type": "code",
      "metadata": {
        "id": "0AdfO-mfSLf4",
        "colab_type": "code",
        "colab": {}
      },
      "source": [
        "train=pd.read_csv('/content/drive/My Drive/challeng/credit_train.csv',sep=',')"
      ],
      "execution_count": 0,
      "outputs": []
    },
    {
      "cell_type": "code",
      "metadata": {
        "id": "m_Xggs6ESc6y",
        "colab_type": "code",
        "colab": {}
      },
      "source": [
        "test=pd.read_csv('/content/drive/My Drive/challeng/credit_test.csv',sep=',')"
      ],
      "execution_count": 0,
      "outputs": []
    },
    {
      "cell_type": "code",
      "metadata": {
        "id": "HRkQ-RaqSoqh",
        "colab_type": "code",
        "outputId": "b1f73b4d-8f20-4a34-c3bc-99cd1c753347",
        "colab": {
          "base_uri": "https://localhost:8080/",
          "height": 530
        }
      },
      "source": [
        "train.head()"
      ],
      "execution_count": 28,
      "outputs": [
        {
          "output_type": "execute_result",
          "data": {
            "text/html": [
              "<div>\n",
              "<style scoped>\n",
              "    .dataframe tbody tr th:only-of-type {\n",
              "        vertical-align: middle;\n",
              "    }\n",
              "\n",
              "    .dataframe tbody tr th {\n",
              "        vertical-align: top;\n",
              "    }\n",
              "\n",
              "    .dataframe thead th {\n",
              "        text-align: right;\n",
              "    }\n",
              "</style>\n",
              "<table border=\"1\" class=\"dataframe\">\n",
              "  <thead>\n",
              "    <tr style=\"text-align: right;\">\n",
              "      <th></th>\n",
              "      <th>Loan ID</th>\n",
              "      <th>Customer ID</th>\n",
              "      <th>Loan Status</th>\n",
              "      <th>Current Loan Amount</th>\n",
              "      <th>Term</th>\n",
              "      <th>Credit Score</th>\n",
              "      <th>Annual Income</th>\n",
              "      <th>Years in current job</th>\n",
              "      <th>Home Ownership</th>\n",
              "      <th>Purpose</th>\n",
              "      <th>Monthly Debt</th>\n",
              "      <th>Years of Credit History</th>\n",
              "      <th>Months since last delinquent</th>\n",
              "      <th>Number of Open Accounts</th>\n",
              "      <th>Number of Credit Problems</th>\n",
              "      <th>Current Credit Balance</th>\n",
              "      <th>Maximum Open Credit</th>\n",
              "      <th>Bankruptcies</th>\n",
              "      <th>Tax Liens</th>\n",
              "    </tr>\n",
              "  </thead>\n",
              "  <tbody>\n",
              "    <tr>\n",
              "      <th>0</th>\n",
              "      <td>14dd8831-6af5-400b-83ec-68e61888a048</td>\n",
              "      <td>981165ec-3274-42f5-a3b4-d104041a9ca9</td>\n",
              "      <td>Fully Paid</td>\n",
              "      <td>445412.0</td>\n",
              "      <td>Short Term</td>\n",
              "      <td>709.0</td>\n",
              "      <td>1167493.0</td>\n",
              "      <td>8 years</td>\n",
              "      <td>Home Mortgage</td>\n",
              "      <td>Home Improvements</td>\n",
              "      <td>5214.74</td>\n",
              "      <td>17.2</td>\n",
              "      <td>NaN</td>\n",
              "      <td>6.0</td>\n",
              "      <td>1.0</td>\n",
              "      <td>228190.0</td>\n",
              "      <td>416746.0</td>\n",
              "      <td>1.0</td>\n",
              "      <td>0.0</td>\n",
              "    </tr>\n",
              "    <tr>\n",
              "      <th>1</th>\n",
              "      <td>4771cc26-131a-45db-b5aa-537ea4ba5342</td>\n",
              "      <td>2de017a3-2e01-49cb-a581-08169e83be29</td>\n",
              "      <td>Fully Paid</td>\n",
              "      <td>262328.0</td>\n",
              "      <td>Short Term</td>\n",
              "      <td>NaN</td>\n",
              "      <td>NaN</td>\n",
              "      <td>10+ years</td>\n",
              "      <td>Home Mortgage</td>\n",
              "      <td>Debt Consolidation</td>\n",
              "      <td>33295.98</td>\n",
              "      <td>21.1</td>\n",
              "      <td>8.0</td>\n",
              "      <td>35.0</td>\n",
              "      <td>0.0</td>\n",
              "      <td>229976.0</td>\n",
              "      <td>850784.0</td>\n",
              "      <td>0.0</td>\n",
              "      <td>0.0</td>\n",
              "    </tr>\n",
              "    <tr>\n",
              "      <th>2</th>\n",
              "      <td>4eed4e6a-aa2f-4c91-8651-ce984ee8fb26</td>\n",
              "      <td>5efb2b2b-bf11-4dfd-a572-3761a2694725</td>\n",
              "      <td>Fully Paid</td>\n",
              "      <td>99999999.0</td>\n",
              "      <td>Short Term</td>\n",
              "      <td>741.0</td>\n",
              "      <td>2231892.0</td>\n",
              "      <td>8 years</td>\n",
              "      <td>Own Home</td>\n",
              "      <td>Debt Consolidation</td>\n",
              "      <td>29200.53</td>\n",
              "      <td>14.9</td>\n",
              "      <td>29.0</td>\n",
              "      <td>18.0</td>\n",
              "      <td>1.0</td>\n",
              "      <td>297996.0</td>\n",
              "      <td>750090.0</td>\n",
              "      <td>0.0</td>\n",
              "      <td>0.0</td>\n",
              "    </tr>\n",
              "    <tr>\n",
              "      <th>3</th>\n",
              "      <td>77598f7b-32e7-4e3b-a6e5-06ba0d98fe8a</td>\n",
              "      <td>e777faab-98ae-45af-9a86-7ce5b33b1011</td>\n",
              "      <td>Fully Paid</td>\n",
              "      <td>347666.0</td>\n",
              "      <td>Long Term</td>\n",
              "      <td>721.0</td>\n",
              "      <td>806949.0</td>\n",
              "      <td>3 years</td>\n",
              "      <td>Own Home</td>\n",
              "      <td>Debt Consolidation</td>\n",
              "      <td>8741.90</td>\n",
              "      <td>12.0</td>\n",
              "      <td>NaN</td>\n",
              "      <td>9.0</td>\n",
              "      <td>0.0</td>\n",
              "      <td>256329.0</td>\n",
              "      <td>386958.0</td>\n",
              "      <td>0.0</td>\n",
              "      <td>0.0</td>\n",
              "    </tr>\n",
              "    <tr>\n",
              "      <th>4</th>\n",
              "      <td>d4062e70-befa-4995-8643-a0de73938182</td>\n",
              "      <td>81536ad9-5ccf-4eb8-befb-47a4d608658e</td>\n",
              "      <td>Fully Paid</td>\n",
              "      <td>176220.0</td>\n",
              "      <td>Short Term</td>\n",
              "      <td>NaN</td>\n",
              "      <td>NaN</td>\n",
              "      <td>5 years</td>\n",
              "      <td>Rent</td>\n",
              "      <td>Debt Consolidation</td>\n",
              "      <td>20639.70</td>\n",
              "      <td>6.1</td>\n",
              "      <td>NaN</td>\n",
              "      <td>15.0</td>\n",
              "      <td>0.0</td>\n",
              "      <td>253460.0</td>\n",
              "      <td>427174.0</td>\n",
              "      <td>0.0</td>\n",
              "      <td>0.0</td>\n",
              "    </tr>\n",
              "  </tbody>\n",
              "</table>\n",
              "</div>"
            ],
            "text/plain": [
              "                                Loan ID  ... Tax Liens\n",
              "0  14dd8831-6af5-400b-83ec-68e61888a048  ...       0.0\n",
              "1  4771cc26-131a-45db-b5aa-537ea4ba5342  ...       0.0\n",
              "2  4eed4e6a-aa2f-4c91-8651-ce984ee8fb26  ...       0.0\n",
              "3  77598f7b-32e7-4e3b-a6e5-06ba0d98fe8a  ...       0.0\n",
              "4  d4062e70-befa-4995-8643-a0de73938182  ...       0.0\n",
              "\n",
              "[5 rows x 19 columns]"
            ]
          },
          "metadata": {
            "tags": []
          },
          "execution_count": 28
        }
      ]
    },
    {
      "cell_type": "code",
      "metadata": {
        "id": "ZjeVNVbjcCYN",
        "colab_type": "code",
        "outputId": "0d081710-b580-47d7-b584-b4564306b7cf",
        "colab": {
          "base_uri": "https://localhost:8080/",
          "height": 357
        }
      },
      "source": [
        "print('Cantidad de valores NaN por columna')\n",
        "for i in range(train.shape[1]):\n",
        "  print(train.columns[i],  ':'   ,train.iloc[:,i].isna().sum())"
      ],
      "execution_count": 29,
      "outputs": [
        {
          "output_type": "stream",
          "text": [
            "Cantidad de valores NaN por columna\n",
            "Loan ID : 514\n",
            "Customer ID : 514\n",
            "Loan Status : 514\n",
            "Current Loan Amount : 514\n",
            "Term : 514\n",
            "Credit Score : 19668\n",
            "Annual Income : 19668\n",
            "Years in current job : 4736\n",
            "Home Ownership : 514\n",
            "Purpose : 514\n",
            "Monthly Debt : 514\n",
            "Years of Credit History : 514\n",
            "Months since last delinquent : 53655\n",
            "Number of Open Accounts : 514\n",
            "Number of Credit Problems : 514\n",
            "Current Credit Balance : 514\n",
            "Maximum Open Credit : 516\n",
            "Bankruptcies : 718\n",
            "Tax Liens : 524\n"
          ],
          "name": "stdout"
        }
      ]
    },
    {
      "cell_type": "code",
      "metadata": {
        "id": "osViKN0Bc9Le",
        "colab_type": "code",
        "outputId": "68c3769b-85fa-41e6-b2fa-f2fbd0b55583",
        "colab": {
          "base_uri": "https://localhost:8080/",
          "height": 265
        }
      },
      "source": [
        "hist=train['Months since last delinquent'].hist()"
      ],
      "execution_count": 30,
      "outputs": [
        {
          "output_type": "display_data",
          "data": {
            "image/png": "[encoded data removed]",
            "text/plain": [
              "<Figure size 432x288 with 1 Axes>"
            ]
          },
          "metadata": {
            "tags": []
          }
        }
      ]
    },
    {
      "cell_type": "markdown",
      "metadata": {
        "id": "olMHmpa9kWz5",
        "colab_type": "text"
      },
      "source": [
        "Como vemos los meses que pasaron desde la ultima vez hubo un delito es la columna con mayor cantidad de datos faltantes. Voy a asumir que los datos faltantes corresponden a personar que no tienen antencedentes penales y les asigno el numero 176.\n",
        "\n"
      ]
    },
    {
      "cell_type": "code",
      "metadata": {
        "id": "izY-DmP3kVjf",
        "colab_type": "code",
        "colab": {}
      },
      "source": [
        "train['Months since last delinquent'].replace(np.nan,176,inplace=True)"
      ],
      "execution_count": 0,
      "outputs": []
    },
    {
      "cell_type": "markdown",
      "metadata": {
        "id": "B0MAxjMinO_0",
        "colab_type": "text"
      },
      "source": [
        "Ahora si ya podemos eliminar las filas que contengan datos faltantes, ya que no estamos periendo gran cantidad\n"
      ]
    },
    {
      "cell_type": "code",
      "metadata": {
        "id": "GNRxzMPEnLyT",
        "colab_type": "code",
        "colab": {}
      },
      "source": [
        "train=train.dropna(axis=0,how='any')"
      ],
      "execution_count": 0,
      "outputs": []
    },
    {
      "cell_type": "markdown",
      "metadata": {
        "id": "zvteymkYsk7o",
        "colab_type": "text"
      },
      "source": [
        "Separamos los datos de las labels"
      ]
    },
    {
      "cell_type": "code",
      "metadata": {
        "id": "-1ioNY26nuRW",
        "colab_type": "code",
        "colab": {}
      },
      "source": [
        "Xtest=train.drop(columns=['Loan ID','Customer ID','Loan Status'])"
      ],
      "execution_count": 0,
      "outputs": []
    },
    {
      "cell_type": "code",
      "metadata": {
        "id": "JIrugIZursVM",
        "colab_type": "code",
        "colab": {}
      },
      "source": [
        "Ytest=train['Loan Status']"
      ],
      "execution_count": 0,
      "outputs": []
    },
    {
      "cell_type": "code",
      "metadata": {
        "id": "EIYnVNgTBq9P",
        "colab_type": "code",
        "colab": {}
      },
      "source": [
        "Ytest=Ytest.map({'Fully Paid':1,'Charged Off':2})\n",
        "Ytest=Ytest.to_numpy()"
      ],
      "execution_count": 0,
      "outputs": []
    },
    {
      "cell_type": "markdown",
      "metadata": {
        "id": "s4NGIA4dsXG3",
        "colab_type": "text"
      },
      "source": [
        "Ahora es el momento de pasar a variables categoricas y dummy"
      ]
    },
    {
      "cell_type": "code",
      "metadata": {
        "id": "H8asRY4vyvyJ",
        "colab_type": "code",
        "colab": {}
      },
      "source": [
        "Xtest['Term']=Xtest['Term'].map({'Short Term':0,'Long Term':1})"
      ],
      "execution_count": 0,
      "outputs": []
    },
    {
      "cell_type": "code",
      "metadata": {
        "id": "pfIxZzO0zihf",
        "colab_type": "code",
        "colab": {}
      },
      "source": [
        "Xtest['Years in current job']=Xtest['Years in current job'].map({'< 1 year':0,'1 year':1,'2 years':2,'3 years':3,'4 years':4,'5 years':5,'6 years':6,'7 years':7,'8 years':8,'9 years':9,'10+ years':10})"
      ],
      "execution_count": 0,
      "outputs": []
    },
    {
      "cell_type": "code",
      "metadata": {
        "id": "s_O9AIoD1ma8",
        "colab_type": "code",
        "colab": {}
      },
      "source": [
        "Xtest['Home Ownership']=Xtest['Home Ownership'].map({'Home Mortgage':0,'Rent':1,'Own Home':2,'HaveMortgage':3})"
      ],
      "execution_count": 0,
      "outputs": []
    },
    {
      "cell_type": "code",
      "metadata": {
        "id": "Qd_LnH-R24he",
        "colab_type": "code",
        "colab": {}
      },
      "source": [
        "Xtest=pd.get_dummies(Xtest,columns=['Purpose'],drop_first=True)"
      ],
      "execution_count": 0,
      "outputs": []
    },
    {
      "cell_type": "markdown",
      "metadata": {
        "id": "wzBEXsS-9k2N",
        "colab_type": "text"
      },
      "source": [
        "Momento de normalizar."
      ]
    },
    {
      "cell_type": "code",
      "metadata": {
        "id": "sVTgBxuf9vmj",
        "colab_type": "code",
        "colab": {}
      },
      "source": [
        "from sklearn.preprocessing import StandardScaler\n",
        "Xtest = StandardScaler().fit_transform(Xtest)"
      ],
      "execution_count": 0,
      "outputs": []
    },
    {
      "cell_type": "markdown",
      "metadata": {
        "id": "LuJ4Mk_7s8OK",
        "colab_type": "text"
      },
      "source": [
        "Ahora si la red de Kohonen"
      ]
    },
    {
      "cell_type": "code",
      "metadata": {
        "id": "UZov9Em_EezL",
        "colab_type": "code",
        "colab": {}
      },
      "source": [
        "auxInput=[]\n",
        "\n",
        "class SOM:\n",
        "    def __init__(self, dimx, dimy, dimz, eta):\n",
        "        self.W = (2*np.random.random((dimx,dimy, dimz)) - 1)/10\n",
        "        self.initGaussian = 9\n",
        "        self.initEta = eta\n",
        "        self.gaussian = 0\n",
        "        self.eta = 0\n",
        "        self.actualInput = 0\n",
        "        self.Ys = []\n",
        "        self.Xs = []\n",
        "        self.cmap = colors.ListedColormap(['black','gray','Blue','red', 'Green','cyan', 'magenta','yellow','darkorange','lime'])\n",
        "        self.plot = plt.figure(figsize=(self.W.shape[0],self.W.shape[1]))\n",
        "        self.Ytest = []\n",
        "        self.Xtest = []\n",
        "        \n",
        "    def train(self, X, Y, epochs, Xtest, Ytest):\n",
        "        self.Xtest = Xtest\n",
        "        self.Ytest = Ytest\n",
        "        self.Ys = Y\n",
        "        self.Xs = X\n",
        "        iteracion = 0\n",
        "        for it in range(epochs):\n",
        "            self.Xs, self.Ys = self.shuffleArrays(self.Xs, self.Ys)            \n",
        "            for xi in X:\n",
        "                self.gaussian = self.gaussianParam(iteracion)\n",
        "                self.eta = self.etaParam(iteracion)\n",
        "                closest = self.findClosest(xi)\n",
        "                self.updateW(xi, closest)\n",
        "                iteracion += 1\n",
        "            if((it % 1 == 0) and (self.eta<0.02)):\n",
        "                print(datetime.datetime.now())\n",
        "                print(\"Epoca %s, Eta %s, Gaussian %s\" % (it, self.eta, self.gaussian))\n",
        "                print(\"Vecindad lejano %s\" % (self.neighbor(np.array([0,0]), np.array([6,6]))))\n",
        "                print(\"Vecindad cercano %s\" % (self.neighbor(np.array([3,3]), np.array([6,6]))))\n",
        "                print(\"Vecindad del ganador %s\" % (self.neighbor(np.array([5,5]), np.array([6,6]))))\n",
        "                self.validate(9,it)\n",
        "\n",
        "    def shuffleArrays(self, arr1, arr2):                  #orden aleatorio en la entrada y salida (manteniendo los pares)\n",
        "        p = np.random.permutation(len(arr1))\n",
        "        return arr1[p], arr2[p]\n",
        "\n",
        "    def diff(self, wi):\n",
        "        return np.linalg.norm(wi-self.actualInput)\n",
        "    \n",
        "    def findClosest(self, input):\n",
        "        self.actualInput = input\n",
        "        aux = np.apply_along_axis(self.diff, 2, self.W)\n",
        "        idx = np.where(aux == np.amin(aux))\n",
        "        return np.array([idx[0],idx[1]]).reshape(1,2)[0]\n",
        "\n",
        "    def updateW(self, input, winner): #NO ITERAR\n",
        "        for f in range(self.W.shape[0]):\n",
        "            for c in range(self.W.shape[1]):\n",
        "                neighbor = self.neighbor(np.array([f,c]), winner)\n",
        "                self.W[f, c] += self.eta * neighbor * (input - self.W[f, c])\n",
        "        return\n",
        "\n",
        "    def neighbor(self, neuronIdx, winner):##testear (falta que al ppio cubra toda la grilla)\n",
        "        return np.exp(-1 * np.linalg.norm(neuronIdx-winner) **2 / (2*self.gaussian**2))\n",
        "\n",
        "    def gaussianParam(self, it):\n",
        "        return self.initGaussian * np.exp(-1* it / (10**(6.5)/np.log(self.initGaussian)))\n",
        "\n",
        "    def etaParam(self, it):\n",
        "        return self.initEta * np.exp(-1 * it / 10**(6.5))\n",
        "\n",
        "    def validate(self, clusters, ep):\n",
        "        Wtest = np.zeros((self.W.shape[0], self.W.shape[1], clusters+1))\n",
        "        for xtest, ytest in zip(self.Xs, self.Ys):\n",
        "            closest = self.findClosest(xtest)\n",
        "            Wtest[closest[0], closest[1],ytest] +=1\n",
        "        Wplot = np.zeros((self.W.shape[0], self.W.shape[1]))\n",
        "        for f in range(Wplot.shape[0]):\n",
        "            for c in range(Wplot.shape[1]):\n",
        "                Wplot[f,c] = numpy.argmax((Wtest[f,c])) \n",
        "        print(Wplot)\n",
        "        bounds=[0,1,2,3,4,5,6,7,8,9,10]\n",
        "        norm = colors.BoundaryNorm(bounds, self.cmap.N)\n",
        "        plt.pcolor(Wplot[::-1],cmap=self.cmap,edgecolors='k', linewidths=3, norm=norm)\n",
        "        #plt.savefig('%s_som.png' % (ep))\n",
        "        plt.pause(0.05)\n",
        "        self.test(Wplot)\n",
        "\n",
        "    def test(self, clusters):\n",
        "        ok = 0\n",
        "        for xtest, ytest in zip(self.Xtest, self.Ytest):\n",
        "            closest = self.findClosest(xtest)\n",
        "            if(clusters[closest[0], closest[1]] == ytest):\n",
        "                ok = ok +1\n",
        "        print(\"Total %s, Ok %s, Error %s (%s porc.)\" % (self.Xtest.shape[0], ok, self.Xtest.shape[0]-ok, (self.Xtest.shape[0]-ok)*100/self.Xtest.shape[0]))\n",
        "\n",
        "#####################################################################################\n",
        "\n",
        "def getData(file, inputCols, outputCols, outputFirst = True):\n",
        "    results = []\n",
        "    with open(file) as csvfile:\n",
        "        reader = csv.reader(csvfile, quoting=csv.QUOTE_NONNUMERIC) \n",
        "        for row in reader: \n",
        "            results.append(row)\n",
        "    results = np.array(results)\n",
        "    results = pd.DataFrame(results) #paso los datos a un data frame\n",
        "    if(outputFirst):\n",
        "        entradas = results.iloc[:,outputCols:outputCols+inputCols] #Separo los datos de entrada\n",
        "        salidas  = results.iloc[:,0:outputCols] #separo las salidas\n",
        "    else:\n",
        "        entradas = results.iloc[:,0:inputCols] #Separo los datos de entrada\n",
        "        salidas  = results.iloc[:,inputCols:inputCols+outputCols] #separo las salidas\n",
        "    return entradas, salidas\n",
        "\n",
        "def splitdata (X,Y,n):\n",
        "    X1 = pd.DataFrame(X)\n",
        "    Y1 = pd.DataFrame(Y)\n",
        "    r = np.random.randint(0,5000)\n",
        "    Xtep = X1.sample(frac=n,random_state=r)\n",
        "    Ytep = Y1.sample(frac=n,random_state=r)\n",
        "    Xtest = X1.drop(Xtep.index)\n",
        "    Ytest = Y1.drop(Ytep.index)\n",
        "    Xtep = Xtep.to_numpy()\n",
        "    Ytep = Ytep.to_numpy()\n",
        "    Xtest = Xtest.to_numpy()\n",
        "    Ytest =Ytest.to_numpy()\n",
        "    return Xtep, Ytep, Xtest, Ytest\n",
        "  \n",
        "#X, y = getData(\"gdrive/My Drive/tp2.csv\", 850, 1, True)\n",
        "##pca = PCA(n_components=3)\n",
        "##pca.fit(X)\n",
        "##samples = np.dot(X, pca.components_.T)\n",
        "\n",
        "#sanger=wpca11787\n",
        "\n",
        "#samples = np.dot(X, sanger.T)\n",
        "#print(samples.shape)\n",
        "\n",
        "#separo datos de test\n",
        "#Xtrain, Ytrain, Xtest, Ytest = splitdata(samples,y,0.9)\n",
        "\n",
        "\n",
        "\n",
        "net = SOM(11, 11, Xtest.shape[1], 0.1)\n",
        "net.train(Xtest, Ytest, 50000, Xtest, Ytest)"
      ],
      "execution_count": 0,
      "outputs": []
    }
  ]
}